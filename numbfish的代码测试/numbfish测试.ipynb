{
 "cells": [
  {
   "cell_type": "code",
   "execution_count": 12,
   "metadata": {
    "collapsed": true
   },
   "outputs": [
    {
     "name": "stdout",
     "output_type": "stream",
     "text": [
      "[[[ 0  1  2  3]\n  [ 4  5  6  7]\n  [ 8  9 10 11]]\n\n [[12 13 14 15]\n  [16 17 18 19]\n  [20 21 22 23]]]\n====================\n[[  4.   5.   6.   7.]\n [ 16.  17.  18.  19.]]\n====================\n(2, 4)\n[  5.5  17.5]\n(2,)\n"
     ]
    }
   ],
   "source": [
    "# 2张照片，照片尺寸是3*4像素。\n",
    "# 0维 -> 照片\n",
    "# 1维 -> 行\n",
    "# 2维 -> 列\n",
    "# 对行求均值，3行合并成1行。\n",
    "# 对2*4 求均值，4列合并成1列。\n",
    "from numpy import *\n",
    "a = arange(24).reshape(2, 3, 4)\n",
    "print(a)\n",
    "a = a.mean(1)\n",
    "print(\"=\"*20)\n",
    "print(a)\n",
    "print(\"=\"*20)\n",
    "print(a.shape)\n",
    "a=a.mean(1)\n",
    "print(a)\n",
    "print(a.shape)"
   ]
  },
  {
   "cell_type": "code",
   "execution_count": 9,
   "metadata": {},
   "outputs": [
    {
     "name": "stdout",
     "output_type": "stream",
     "text": [
      "[(1, 2), (4, 5), (7, 8)]\n"
     ]
    }
   ],
   "source": [
    "x = [1, 4, 7]\n",
    "y = [2, 5, 8]\n",
    "print(zip(x, y))"
   ]
  },
  {
   "cell_type": "code",
   "execution_count": 3,
   "metadata": {
    "collapsed": true
   },
   "outputs": [
    {
     "name": "stdout",
     "output_type": "stream",
     "text": [
      "<type 'numpy.ndarray'>\n"
     ]
    }
   ],
   "source": [
    ""
   ]
  },
  {
   "cell_type": "code",
   "execution_count": null,
   "metadata": {},
   "outputs": [],
   "source": [
    ""
   ]
  }
 ],
 "metadata": {
  "kernelspec": {
   "display_name": "Python 2",
   "language": "python",
   "name": "python2"
  },
  "language_info": {
   "codemirror_mode": {
    "name": "ipython",
    "version": 2.0
   },
   "file_extension": ".py",
   "mimetype": "text/x-python",
   "name": "python",
   "nbconvert_exporter": "python",
   "pygments_lexer": "ipython2",
   "version": "2.7.6"
  }
 },
 "nbformat": 4,
 "nbformat_minor": 0
}